{
 "cells": [
  {
   "cell_type": "code",
   "execution_count": 2,
   "metadata": {},
   "outputs": [
    {
     "name": "stderr",
     "output_type": "stream",
     "text": [
      "d:\\Projects\\hexaware\\smart_recruitment_hexaware\\.venv\\Lib\\site-packages\\tqdm\\auto.py:21: TqdmWarning: IProgress not found. Please update jupyter and ipywidgets. See https://ipywidgets.readthedocs.io/en/stable/user_install.html\n",
      "  from .autonotebook import tqdm as notebook_tqdm\n"
     ]
    }
   ],
   "source": [
    "from langchain.document_loaders import PyPDFLoader\n",
    "from langchain.text_splitter import CharacterTextSplitter\n",
    "from langchain_google_genai import GoogleGenerativeAIEmbeddings\n",
    "from langchain.vectorstores import FAISS\n",
    "from langchain_google_genai import GoogleGenerativeAI\n",
    "from langchain_core.messages import HumanMessage, SystemMessage\n",
    "from langchain.prompts import PromptTemplate\n",
    "from langchain.chains import LLMChain\n",
    "from langchain.chains.question_answering import load_qa_chain\n",
    "from dotenv import load_dotenv\n",
    "import os"
   ]
  },
  {
   "cell_type": "code",
   "execution_count": 3,
   "metadata": {},
   "outputs": [],
   "source": [
    "load_dotenv()\n",
    "\n",
    "api_key = os.getenv(\"GOOGLE_API_KEY\")"
   ]
  },
  {
   "cell_type": "code",
   "execution_count": 4,
   "metadata": {},
   "outputs": [],
   "source": [
    "loader = PyPDFLoader(\"../assets/ats-friendly-technical-resume.pdf\")\n",
    "documents = loader.load()\n"
   ]
  },
  {
   "cell_type": "code",
   "execution_count": 105,
   "metadata": {},
   "outputs": [],
   "source": [
    "\n",
    "# 4. Split the document into smaller chunks\n",
    "text_splitter = CharacterTextSplitter(chunk_size=1000, chunk_overlap=0)\n",
    "texts = text_splitter.split_documents(documents)"
   ]
  },
  {
   "cell_type": "code",
   "execution_count": 106,
   "metadata": {},
   "outputs": [],
   "source": [
    "\n",
    "# 5. Generate embeddings using Vertex AI\n",
    "embeddings = GoogleGenerativeAIEmbeddings(model=\"models/embedding-001\")\n",
    "docsearch = FAISS.from_documents(texts, embeddings)"
   ]
  },
  {
   "cell_type": "code",
   "execution_count": 6,
   "metadata": {},
   "outputs": [
    {
     "name": "stderr",
     "output_type": "stream",
     "text": [
      "d:\\Projects\\hexaware\\smart_recruitment_hexaware\\.venv\\Lib\\site-packages\\langchain_core\\_api\\deprecation.py:141: LangChainDeprecationWarning: This class is deprecated. See the following migration guides for replacements based on `chain_type`:\n",
      "stuff: https://python.langchain.com/v0.2/docs/versions/migrating_chains/stuff_docs_chain\n",
      "map_reduce: https://python.langchain.com/v0.2/docs/versions/migrating_chains/map_reduce_chain\n",
      "refine: https://python.langchain.com/v0.2/docs/versions/migrating_chains/refine_chain\n",
      "map_rerank: https://python.langchain.com/v0.2/docs/versions/migrating_chains/map_rerank_docs_chain\n",
      "\n",
      "See also guides on retrieval and question-answering here: https://python.langchain.com/v0.2/docs/how_to/#qa-with-rag\n",
      "  warn_deprecated(\n"
     ]
    }
   ],
   "source": [
    "# 6. Create a question-answering chain using Vertex AI\n",
    "llm = GoogleGenerativeAI(model=\"gemini-1.5-flash\", google_api_key=api_key)\n",
    "chain = load_qa_chain(llm, chain_type=\"stuff\")\n",
    "\n",
    "# messages = [\n",
    "#     SystemMessage(content=\"application deadline should be a date. today is 25/08/2024. mony should be in RS. give a perfect job description in 6 lines for the following in JSON form with these key values only Job Title,Job Description, Department, Job Location, Employment Type, Salary Range, Must be numeric values Application Deadline, Required Qualifications, Preferred Qualifications, Responsibilities. Remember to only respond with a valid JSON object.\"),\n",
    "#     HumanMessage(content=\"senior software devloper role for backend devloper in django 50 plus years experience salary of 50k in next week\")\n",
    "# ]\n",
    "\n",
    "# result = llm.invoke(messages)"
   ]
  },
  {
   "cell_type": "code",
   "execution_count": 114,
   "metadata": {},
   "outputs": [
    {
     "name": "stdout",
     "output_type": "stream",
     "text": [
      "```json\n",
      "{\n",
      "  \"skills\": {\n",
      "    \"python\": true,\n",
      "    \"ruby\": false,\n",
      "    \"machine learning\": true,\n",
      "    \"django\": false,\n",
      "    \"react js\": false\n",
      "  },\n",
      "  \"score\": 0.6\n",
      "}\n",
      "```\n"
     ]
    }
   ],
   "source": [
    "\n",
    "skils = [\"python\", \"ruby\", \"machine learning\", \"django\", \"react js\"]\n",
    "skill_query = f\"compare the skills in the resume with {skils}. based on the skills matched calculate overall score for skills and give output in decimal value and fomrat it as json\"\n",
    "# docs = docsearch.similarity_search(skill_query)\n",
    "# docsearch.\n",
    "answer = chain.run(input_documents=documents, question=skill_query)\n",
    "print(answer)\n",
    "# print(docs[0].page_content)\n",
    "# print(documents[0].page_content)"
   ]
  },
  {
   "cell_type": "code",
   "execution_count": 23,
   "metadata": {},
   "outputs": [
    {
     "name": "stdout",
     "output_type": "stream",
     "text": [
      "{'relevance': 3, 'experience': 6, 'skills_match': 2, 'formatting': 8}\n"
     ]
    }
   ],
   "source": [
    "import re\n",
    "import json\n",
    "\n",
    "\n",
    "prompt_template = PromptTemplate(\n",
    "    input_variables=[\"resume_text\", \"job_description\", \"required_skills\"],\n",
    "    template=(\n",
    "        \"You are an HR assistant. Evaluate this resume based on the following job description: {job_description}.and the required skills {required_skills}.\"\n",
    "        \"Score the resume on relevance, experience, skills match, and formatting.the output should only be in json format with maximum score as 10. don't give any other explanation.Do not include json word at beggining\"\n",
    "        \"Resume: {resume_text}\"\n",
    "    )\n",
    ")\n",
    "\n",
    "chain = LLMChain(llm=llm, prompt=prompt_template)\n",
    "jd = '''We are looking for a senior Software Engineer with experience in Python, Django, and React.js.\n",
    "The ideal candidate should have at least 50 years of experience in software development, \n",
    "familiarity with CI/CD pipelines, and a strong understanding of web technologies.'''\n",
    "skills = \"python, django, react\"\n",
    "score = chain.run(resume_text=documents[0].page_content, job_description=jd, required_skills=skills)\n",
    "json_str = re.search(r'\\{.*\\}', score.replace('\\n', ''))\n",
    "json_str = json.loads(json_str.group())\n",
    "print(json_str)"
   ]
  },
  {
   "cell_type": "code",
   "execution_count": null,
   "metadata": {},
   "outputs": [],
   "source": []
  }
 ],
 "metadata": {
  "kernelspec": {
   "display_name": ".venv",
   "language": "python",
   "name": "python3"
  },
  "language_info": {
   "codemirror_mode": {
    "name": "ipython",
    "version": 3
   },
   "file_extension": ".py",
   "mimetype": "text/x-python",
   "name": "python",
   "nbconvert_exporter": "python",
   "pygments_lexer": "ipython3",
   "version": "3.12.0"
  }
 },
 "nbformat": 4,
 "nbformat_minor": 2
}
