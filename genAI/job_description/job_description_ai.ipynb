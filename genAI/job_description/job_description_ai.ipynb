{
 "cells": [
  {
   "cell_type": "code",
   "execution_count": 36,
   "metadata": {},
   "outputs": [],
   "source": [
    "from dotenv import load_dotenv\n",
    "from langchain_google_genai import GoogleGenerativeAI\n",
    "from langchain_core.messages import HumanMessage, SystemMessage\n",
    "from langchain_core.output_parsers import StrOutputParser\n",
    "import json\n",
    "from datetime import datetime, timedelta\n",
    "import os"
   ]
  },
  {
   "cell_type": "code",
   "execution_count": 37,
   "metadata": {},
   "outputs": [],
   "source": [
    "load_dotenv()\n",
    "\n",
    "api_key = os.getenv(\"GOOGLE_API_KEY\")\n"
   ]
  },
  {
   "cell_type": "code",
   "execution_count": 38,
   "metadata": {},
   "outputs": [],
   "source": [
    "\n",
    "today_date = datetime.now()\n",
    "deadline_date = today_date + timedelta(days=7)\n",
    "formatted_deadline = deadline_date.strftime(\"%d/%m/%Y\")"
   ]
  },
  {
   "cell_type": "code",
   "execution_count": 39,
   "metadata": {},
   "outputs": [],
   "source": [
    "model = GoogleGenerativeAI(model=\"gemini-pro\", google_api_key=api_key)\n",
    "\n",
    "messages = [\n",
    "    SystemMessage(content=f\"Generate a job description for the following in JSON format only. Job Title, Job Description,Department, Job Location, Employment Type,Salary Range (starting with 'RS'), Application Deadline (use {formatted_deadline} in DD/MM/YYYY format), Required Qualifications,Preferred Qualifications. Do not include json word at beggining.\"),    \n",
    "    HumanMessage(content=\"senior software devloper role for backend devloper in django 5 plus years experience salary of 50k\")\n",
    "]\n",
    "\n",
    "result = model.invoke(messages)"
   ]
  },
  {
   "cell_type": "code",
   "execution_count": 40,
   "metadata": {},
   "outputs": [
    {
     "name": "stdout",
     "output_type": "stream",
     "text": [
      "{\n",
      "  \"Job Title\": \"Senior Software Developer (Backend)\",\n",
      "  \"Job Description\": \"We are looking for an experienced Senior Software Developer to join our team and work on our backend development using Django. The ideal candidate will have 5+ years of experience in Django and a strong understanding of software development best practices.\",\n",
      "  \"Department\": \"Engineering\",\n",
      "  \"Job Location\": \"Remote\",\n",
      "  \"Employment Type\": \"Full-time\",\n",
      "  \"Salary Range\": \"RS 50k\",\n",
      "  \"Application Deadline\": \"02/09/2024\",\n",
      "  \"Required Qualifications\": [\n",
      "    \"5+ years of experience in Django\",\n",
      "    \"Strong understanding of software development best practices\",\n",
      "    \"Excellent communication and interpersonal skills\"\n",
      "  ],\n",
      "  \"Preferred Qualifications\": [\n",
      "    \"Experience with other backend frameworks (e.g., Flask, Node.js)\",\n",
      "    \"Experience with cloud computing platforms (e.g., AWS, Azure)\",\n",
      "    \"Experience with Agile development methodologies\"\n",
      "  ]\n",
      "}\n"
     ]
    }
   ],
   "source": [
    "print(result)"
   ]
  }
 ],
 "metadata": {
  "kernelspec": {
   "display_name": ".venv",
   "language": "python",
   "name": "python3"
  },
  "language_info": {
   "codemirror_mode": {
    "name": "ipython",
    "version": 3
   },
   "file_extension": ".py",
   "mimetype": "text/x-python",
   "name": "python",
   "nbconvert_exporter": "python",
   "pygments_lexer": "ipython3",
   "version": "3.9.0"
  }
 },
 "nbformat": 4,
 "nbformat_minor": 2
}
