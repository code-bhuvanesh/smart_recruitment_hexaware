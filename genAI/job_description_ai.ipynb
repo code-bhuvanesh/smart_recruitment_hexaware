{
 "cells": [
  {
   "cell_type": "code",
   "execution_count": 1,
   "metadata": {},
   "outputs": [
    {
     "name": "stderr",
     "output_type": "stream",
     "text": [
      "d:\\Projects\\hexaware\\smart_recruitment_hexaware\\.venv\\Lib\\site-packages\\tqdm\\auto.py:21: TqdmWarning: IProgress not found. Please update jupyter and ipywidgets. See https://ipywidgets.readthedocs.io/en/stable/user_install.html\n",
      "  from .autonotebook import tqdm as notebook_tqdm\n"
     ]
    }
   ],
   "source": [
    "from dotenv import load_dotenv\n",
    "from langchain_google_genai import GoogleGenerativeAI\n",
    "from langchain_core.messages import HumanMessage, SystemMessage\n",
    "from langchain_core.output_parsers import StrOutputParser\n",
    "import os"
   ]
  },
  {
   "cell_type": "code",
   "execution_count": 2,
   "metadata": {},
   "outputs": [],
   "source": [
    "load_dotenv()\n",
    "\n",
    "api_key = os.getenv(\"AISTUDIO_API_KEY\")\n"
   ]
  },
  {
   "cell_type": "code",
   "execution_count": 5,
   "metadata": {},
   "outputs": [
    {
     "name": "stdout",
     "output_type": "stream",
     "text": [
      "```json\n",
      "{\n",
      "  \"title\": \"Senior Software Developer - Backend (Django)\",\n",
      "  \"description\": \"We are seeking an experienced Senior Software Developer with 50+ years of experience in backend development using Django to join our team. The ideal candidate will have a strong understanding of Django and its ecosystem, as well as experience in designing and implementing scalable, high-performance web applications.\n",
      "\n",
      "  **Responsibilities:**\n",
      "\n",
      "  * Design and implement backend architecture for web applications using Django\n",
      "  * Develop and maintain backend services, including RESTful APIs\n",
      "  * Work with frontend developers to integrate backend services into web applications\n",
      "  * Optimize backend performance and scalability\n",
      "  * Troubleshoot and debug backend issues\n",
      "  * Stay up-to-date with the latest Django technologies and best practices\n",
      "\n",
      "  **Qualifications:**\n",
      "\n",
      "  * 50+ years of experience in software development\n",
      "  * 10+ years of experience in backend development using Django\n",
      "  * Strong understanding of Django architecture and its ecosystem\n",
      "  * Experience in designing and implementing scalable, high-performance web applications\n",
      "  * Excellent problem-solving and debugging skills\n",
      "  * Strong communication and teamwork skills\n",
      "  * Bachelor's degree in Computer Science or a related field\n",
      "\n",
      "  **Benefits:**\n",
      "\n",
      "  * Competitive salary and benefits package\n",
      "  * Opportunity to work on cutting-edge projects\n",
      "  * Collaborative and supportive work environment\n",
      "  * Professional development opportunities\n",
      "\n",
      "  **To Apply:**\n",
      "\n",
      "  Please submit your resume and cover letter to jobs@company.com.\"\n",
      "}\n",
      "```\n"
     ]
    }
   ],
   "source": [
    "model = GoogleGenerativeAI(model=\"gemini-pro\", google_api_key=api_key)\n",
    "\n",
    "messages = [\n",
    "    SystemMessage(content=\"give a perfect job description for the following in JSON form\"),\n",
    "    HumanMessage(content=\"senior software devloper role for backend devloper in django 50 plus years experience\")\n",
    "]\n",
    "\n",
    "result = model.invoke(messages)\n",
    "print(result)"
   ]
  },
  {
   "cell_type": "code",
   "execution_count": null,
   "metadata": {},
   "outputs": [],
   "source": []
  }
 ],
 "metadata": {
  "kernelspec": {
   "display_name": ".venv",
   "language": "python",
   "name": "python3"
  },
  "language_info": {
   "codemirror_mode": {
    "name": "ipython",
    "version": 3
   },
   "file_extension": ".py",
   "mimetype": "text/x-python",
   "name": "python",
   "nbconvert_exporter": "python",
   "pygments_lexer": "ipython3",
   "version": "3.12.0"
  }
 },
 "nbformat": 4,
 "nbformat_minor": 2
}
