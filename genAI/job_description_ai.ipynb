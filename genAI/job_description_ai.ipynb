{
 "cells": [
  {
   "cell_type": "code",
   "execution_count": 15,
   "metadata": {},
   "outputs": [],
   "source": [
    "from dotenv import load_dotenv\n",
    "from langchain_google_genai import GoogleGenerativeAI\n",
    "from langchain_core.messages import HumanMessage, SystemMessage\n",
    "from langchain_core.output_parsers import StrOutputParser\n",
    "import json\n",
    "import os"
   ]
  },
  {
   "cell_type": "code",
   "execution_count": 2,
   "metadata": {},
   "outputs": [],
   "source": [
    "load_dotenv()\n",
    "\n",
    "api_key = os.getenv(\"AISTUDIO_API_KEY\")\n"
   ]
  },
  {
   "cell_type": "code",
   "execution_count": 23,
   "metadata": {},
   "outputs": [
    {
     "name": "stdout",
     "output_type": "stream",
     "text": [
      "```json\n",
      "{\n",
      "  \"Job Title\": \"Senior Software Developer - Backend (Django)\",\n",
      "  \"Job Description\": \"We are seeking an experienced Senior Software Developer to join our team and lead the development of our backend systems using Django.\",\n",
      "  \"Department\": \"Engineering\",\n",
      "  \"Job Location\": \"Remote\",\n",
      "  \"Employment Type\": \"Full-time\",\n",
      "  \"Salary Range\": 50000,\n",
      "  \"Application Deadline\": \"25/08/2024\",\n",
      "  \"Required Qualifications\": [\n",
      "    \"5+ years of experience in Django development\",\n",
      "    \"Strong understanding of Python and its ecosystem\",\n",
      "    \"Experience with RESTful APIs and microservices\",\n",
      "    \"Experience with cloud computing platforms (AWS, Azure, or GCP)\",\n",
      "    \"Strong problem-solving and analytical skills\"\n",
      "  ],\n",
      "  \"Preferred Qualifications\": [\n",
      "    \"Experience with other backend technologies (e.g., Node.js, Flask)\",\n",
      "    \"Experience with DevOps practices\",\n",
      "    \"Experience with agile development methodologies\"\n",
      "  ],\n",
      "  \"Responsibilities\": [\n",
      "    \"Design and develop backend systems using Django\",\n",
      "    \"Implement and maintain RESTful APIs\",\n",
      "    \"Work with frontend developers to integrate backend systems with user interfaces\",\n",
      "    \"Troubleshoot and resolve technical issues\",\n",
      "    \"Participate in code reviews and ensure code quality\"\n",
      "  ]\n",
      "}\n",
      "```\n"
     ]
    }
   ],
   "source": [
    "model = GoogleGenerativeAI(model=\"gemini-pro\", google_api_key=api_key)\n",
    "\n",
    "messages = [\n",
    "    SystemMessage(content=\"application deadline should be a date only today is 25/08/2024. mony should be in RS. give a perfect job description for the following in JSON form with these key values only Job Title,Job Description, Department, Job Location, Employment Type, Salary Range, Must be numeric values Application Deadline, Required Qualifications, Preferred Qualifications, Responsibilities. Remember to only respond with a valid JSON object.\"),\n",
    "    HumanMessage(content=\"senior software devloper role for backend devloper in django 50 plus years experience salary of 50k in next week\")\n",
    "]\n",
    "\n",
    "result = model.invoke(messages)\n",
    "print(result)"
   ]
  },
  {
   "cell_type": "code",
   "execution_count": 20,
   "metadata": {},
   "outputs": [
    {
     "data": {
      "text/plain": [
       "'```json\\n{\\n  \"Job Title\": \"Senior Software Developer\",\\n  \"Job Description\": \"We are seeking a highly experienced and skilled Senior Software Developer to join our team. The ideal candidate will have a strong foundation in backend development, particularly with Django. With over 50 years of experience in the field, you will be responsible for designing, developing, and maintaining complex software solutions. As a key member of our engineering team, you will collaborate closely with other developers, product managers, and stakeholders to deliver high-quality software products.\",\\n  \"Department\": \"Engineering\",\\n  \"Job Location\": \"Remote\",\\n  \"Employment Type\": \"Full-time\",\\n  \"Salary Range\": \"50000\",\\n  \"Application Deadline\": \"25/08/2024\",\\n  \"Required Qualifications\": [\\n    \"Master\\'s degree in Computer Science or a related field\",\\n    \"10+ years of experience in backend development\",\\n    \"Strong proficiency in Django\",\\n    \"Excellent problem-solving and analytical skills\",\\n    \"Ability to work independently and as part of a team\"\\n  ],\\n  \"Preferred Qualifications\": [\\n    \"Experience with other programming languages such as Python, Java, or C++\",\\n    \"Experience with cloud computing platforms such as AWS or Azure\",\\n    \"Experience with agile development methodologies\"\\n  ],\\n  \"Responsibilities\": [\\n    \"Design and develop backend software solutions\",\\n    \"Maintain and improve existing software systems\",\\n    \"Collaborate with other developers and stakeholders to gather requirements and deliver software products\",\\n    \"Mentor and train junior developers\",\\n    \"Stay abreast of the latest technologies and best practices in software development\"\\n  ]\\n}\\n```'"
      ]
     },
     "execution_count": 20,
     "metadata": {},
     "output_type": "execute_result"
    }
   ],
   "source": [
    "# json.loads(str(result))\n",
    "result"
   ]
  }
 ],
 "metadata": {
  "kernelspec": {
   "display_name": ".venv",
   "language": "python",
   "name": "python3"
  },
  "language_info": {
   "codemirror_mode": {
    "name": "ipython",
    "version": 3
   },
   "file_extension": ".py",
   "mimetype": "text/x-python",
   "name": "python",
   "nbconvert_exporter": "python",
   "pygments_lexer": "ipython3",
   "version": "3.12.0"
  }
 },
 "nbformat": 4,
 "nbformat_minor": 2
}
